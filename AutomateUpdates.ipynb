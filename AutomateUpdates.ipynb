{
 "cells": [
  {
   "cell_type": "markdown",
   "metadata": {},
   "source": [
    "We want to create a script that allows the end user to add data, in bulk, to an\n",
    "existing web feature layer in an ArcGIS Enterprise portal.\n",
    "\n",
    "The input is a csv file of X,Y data: \"C:\\Users\\tim10393\\Desktop\\Crime_XY.csv\"\n",
    "Let's start by creating a script that allows the end user to append that Crime_XY csv file\n",
    "to the Crime Incidents layer.\n",
    "\n",
    "Let's first create a python script. Then, a python script tool. Then, a Python Tool box (all-in-one file)\n",
    "Be thinking - what steps should be take to do this?\n",
    "Step 1 - declare variables and import packages"
   ]
  },
  {
   "cell_type": "code",
   "execution_count": 1,
   "metadata": {},
   "outputs": [],
   "source": [
    "import arcpy\n",
    "import csv\n",
    "import arcgis\n",
    "from arcgis.gis import GIS"
   ]
  },
  {
   "cell_type": "markdown",
   "metadata": {},
   "source": [
    "Things to change\n",
    "- CSV File\n",
    "- URL for the web layer\n",
    "- Account for column names with X Y, to avoid using JUST an index position.\n",
    "- Account for columns for the taget feature service\n",
    "- Coordinate system for feature service \n",
    "- Coordinate system for the input coordiantes (csv file)\n"
   ]
  },
  {
   "cell_type": "code",
   "execution_count": 4,
   "metadata": {},
   "outputs": [
    {
     "name": "stderr",
     "output_type": "stream",
     "text": [
      "Setting `verify_cert` to False is a security risk, use at your own risk.\n"
     ]
    },
    {
     "name": "stdout",
     "output_type": "stream",
     "text": [
      "Signed in!\n"
     ]
    }
   ],
   "source": [
    "# Step 2, get access to the web layer in the portal.\n",
    "gis = GIS(\"Pro\", verify_cert=False)\n",
    "print(\"Signed in!\")"
   ]
  },
  {
   "cell_type": "code",
   "execution_count": 5,
   "metadata": {},
   "outputs": [
    {
     "ename": "AttributeError",
     "evalue": "'NoneType' object has no attribute 'layers'",
     "output_type": "error",
     "traceback": [
      "\u001b[0;31m---------------------------------------------------------------------------\u001b[0m\n\u001b[0;31mAttributeError\u001b[0m                            Traceback (most recent call last)",
      "In  \u001b[0;34m[5]\u001b[0m:\nLine \u001b[0;34m2\u001b[0m:     crimeIncidents = item.layers[\u001b[34m0\u001b[39;49;00m]\u001b[37m\u001b[39;49;00m\n",
      "\u001b[0;31mAttributeError\u001b[0m: 'NoneType' object has no attribute 'layers'\n\u001b[0;31m---------------------------------------------------------------------------\u001b[0m"
     ]
    }
   ],
   "source": [
    "item = gis.content.get(\"140bb70ddb104eb196489e3fbc53648f\")\n",
    "crimeIncidents = item.layers[0]\n",
    "print(crimeIncidents.url)"
   ]
  },
  {
   "cell_type": "code",
   "execution_count": null,
   "metadata": {},
   "outputs": [],
   "source": [
    "arcpy.env.overwriteOutput=True\n",
    "crimeLyr = arcpy.management.MakeFeatureLayer(\n",
    "    in_features=crimeIncidents.url,\n",
    "    out_layer=\"CrimePoints\",\n",
    "    where_clause=\"\",\n",
    "    workspace=None,\n",
    "    field_info=\"OBJECTID OBJECTID VISIBLE NONE;IncidentName IncidentName VISIBLE NONE;Time_stamp Time_stamp VISIBLE NONE;Shape Shape VISIBLE NONE\"\n",
    ")\n",
    "crimeLyr[0]"
   ]
  },
  {
   "cell_type": "code",
   "execution_count": null,
   "metadata": {},
   "outputs": [],
   "source": [
    "fieldNames = ['IncidentName','Time_stamp',\"Shape@\"]\n",
    "iCur = arcpy.da.InsertCursor(crimeLyr[0],fieldNames)"
   ]
  },
  {
   "cell_type": "code",
   "execution_count": null,
   "metadata": {},
   "outputs": [],
   "source": [
    "csvFile = r\"C:\\Users\\tim10393\\Desktop\\Crime_XY.csv\"\n",
    "file = open(csvFile)\n",
    "csvData = csv.reader(file)\n",
    "next(csvData)\n",
    "\n",
    "GCS_WGS1984_sp = arcpy.SpatialReference(4326)\n",
    "PCS_WMAS_sp = arcpy.SpatialReference(3857)\n",
    "\n",
    "for row in csvData:\n",
    "    print(row)\n",
    "    pnt = arcpy.Point(row[2],row[3])\n",
    "    pntGeom = arcpy.PointGeometry(pnt, spatial_reference=GCS_WGS1984_sp)\n",
    "    pntGeom = pntGeom.projectAs(PCS_WMAS_sp)\n",
    "    iName = None\n",
    "    timeStamp = row[1]\n",
    "    iRow = [iName, timeStamp, pntGeom]\n",
    "    iCur.insertRow(iRow)\n",
    "del iCur, csvData"
   ]
  },
  {
   "cell_type": "code",
   "execution_count": null,
   "metadata": {},
   "outputs": [],
   "source": []
  }
 ],
 "metadata": {
  "kernelspec": {
   "display_name": "ArcGISPro",
   "language": "Python",
   "name": "python3"
  },
  "language_info": {
   "file_extension": ".py",
   "name": "python",
   "version": "3"
  }
 },
 "nbformat": 4,
 "nbformat_minor": 2
}
