{
 "cells": [
  {
   "cell_type": "markdown",
   "metadata": {},
   "source": [
    "# Extracting a subset of a table based on values in another"
   ]
  },
  {
   "cell_type": "markdown",
   "metadata": {},
   "source": [
    "This notebook prepares data for input into a knowledge graph. Below is a description of the two tables:\n",
    "- **Units** table records a `Unit` and data about the unit (fictitious).\n",
    "- **UnitRelationships** table records an `OriginUnit` and a `DestinationUnit` and data about the relationship they have (also fictitious).\n",
    "\n",
    "The **Units** table contains 8 Units. Both the `OriginUnit` and `DestinationUnit` fields in the **UnitRelationships** table use units from the `Unit` table, and other units not in the `Unit` table.\n",
    "\n",
    "The problem is, we only want to load the data containing information only about the units mentioned in the `Unit` table.\n",
    "\n",
    "Workflow:\n",
    "- Load both tables into a pandas dataframe\n",
    "- Drop rows from **UnitRelationships** table mentioning a unit not in the **Units** table.\n",
    "- Load data into a knowledge graph using the ArcGIS API for Python. Alternatively, you could export the data frame and use the Load Table wizard in ArcGIS Pro."
   ]
  },
  {
   "cell_type": "markdown",
   "metadata": {},
   "source": [
    "## Setting variables and importing libraries"
   ]
  },
  {
   "cell_type": "code",
   "execution_count": null,
   "metadata": {},
   "outputs": [],
   "source": [
    "# For subsetting the table\n",
    "import pandas as pd\n",
    "\n",
    "# For editing the knowledge graph\n",
    "from arcgis.gis import GIS\n",
    "from arcgis.graph import KnowledgeGraph\n",
    "import uuid\n",
    "from pprint import pprint"
   ]
  },
  {
   "cell_type": "code",
   "execution_count": null,
   "metadata": {},
   "outputs": [
    {
     "data": {
      "text/plain": [
       "<arcgis.graph._service.KnowledgeGraph object at 0x0000021F86B42A50>"
      ]
     },
     "execution_count": 3,
     "metadata": {},
     "output_type": "execute_result"
    }
   ],
   "source": [
    "url = \"https://adsrv2019.ad.local/server/rest/services/Hosted/Units/KnowledgeGraphServer\" # URL to knowledge service\n",
    "gis = GIS(\"home\") # Sign in using ArcGIS Pro's credentials\n",
    "knowledge_graph = KnowledgeGraph(url=url, gis=gis)\n",
    "knowledge_graph"
   ]
  },
  {
   "cell_type": "code",
   "execution_count": null,
   "metadata": {},
   "outputs": [],
   "source": [
    "unitsTable = r\"C:\\DemoData\\KNOW\\UnitData.gdb\\Units\"\n",
    "unitRels = r\"C:\\DemoData\\KNOW\\UnitData.gdb\\UnitRelationships\""
   ]
  },
  {
   "cell_type": "markdown",
   "metadata": {},
   "source": [
    "## Create dataframes"
   ]
  },
  {
   "cell_type": "code",
   "execution_count": null,
   "metadata": {},
   "outputs": [],
   "source": [
    "unitsDF = pd.DataFrame.spatial.from_table(unitsTable) \n",
    "unitRelsDF = pd.DataFrame.spatial.from_table(unitRels)"
   ]
  },
  {
   "cell_type": "markdown",
   "metadata": {},
   "source": [
    "This **Unit** table contains the units in the `UnitName` column. These are the only units we are interested in."
   ]
  },
  {
   "cell_type": "code",
   "execution_count": null,
   "metadata": {},
   "outputs": [
    {
     "data": {
      "text/html": [
       "<div>\n",
       "<style scoped>\n",
       "    .dataframe tbody tr th:only-of-type {\n",
       "        vertical-align: middle;\n",
       "    }\n",
       "\n",
       "    .dataframe tbody tr th {\n",
       "        vertical-align: top;\n",
       "    }\n",
       "\n",
       "    .dataframe thead th {\n",
       "        text-align: right;\n",
       "    }\n",
       "</style>\n",
       "<table border=\"1\" class=\"dataframe\">\n",
       "  <thead>\n",
       "    <tr style=\"text-align: right;\">\n",
       "      <th></th>\n",
       "      <th>OBJECTID</th>\n",
       "      <th>UnitName</th>\n",
       "      <th>SomeData</th>\n",
       "    </tr>\n",
       "  </thead>\n",
       "  <tbody>\n",
       "    <tr>\n",
       "      <th>0</th>\n",
       "      <td>1</td>\n",
       "      <td>Unit A</td>\n",
       "      <td>Took training</td>\n",
       "    </tr>\n",
       "    <tr>\n",
       "      <th>1</th>\n",
       "      <td>2</td>\n",
       "      <td>Unit B</td>\n",
       "      <td>Lives in Charlseton</td>\n",
       "    </tr>\n",
       "    <tr>\n",
       "      <th>2</th>\n",
       "      <td>3</td>\n",
       "      <td>Unit C</td>\n",
       "      <td>Likes banana laffy taffy</td>\n",
       "    </tr>\n",
       "    <tr>\n",
       "      <th>3</th>\n",
       "      <td>4</td>\n",
       "      <td>Unit D</td>\n",
       "      <td>Sits in back of room</td>\n",
       "    </tr>\n",
       "    <tr>\n",
       "      <th>4</th>\n",
       "      <td>5</td>\n",
       "      <td>Unit E</td>\n",
       "      <td>Helped set up the lab</td>\n",
       "    </tr>\n",
       "    <tr>\n",
       "      <th>5</th>\n",
       "      <td>6</td>\n",
       "      <td>Unit F</td>\n",
       "      <td>Unlocked the door</td>\n",
       "    </tr>\n",
       "    <tr>\n",
       "      <th>6</th>\n",
       "      <td>7</td>\n",
       "      <td>Unit G</td>\n",
       "      <td>Smart</td>\n",
       "    </tr>\n",
       "    <tr>\n",
       "      <th>7</th>\n",
       "      <td>8</td>\n",
       "      <td>Unit H</td>\n",
       "      <td>Also smart</td>\n",
       "    </tr>\n",
       "  </tbody>\n",
       "</table>\n",
       "</div>"
      ],
      "text/plain": [
       "   OBJECTID UnitName                  SomeData\n",
       "0         1   Unit A             Took training\n",
       "1         2   Unit B       Lives in Charlseton\n",
       "2         3   Unit C  Likes banana laffy taffy\n",
       "3         4   Unit D      Sits in back of room\n",
       "4         5   Unit E     Helped set up the lab\n",
       "5         6   Unit F         Unlocked the door\n",
       "6         7   Unit G                     Smart\n",
       "7         8   Unit H                Also smart"
      ]
     },
     "execution_count": 6,
     "metadata": {},
     "output_type": "execute_result"
    }
   ],
   "source": [
    "unitsDF"
   ]
  },
  {
   "cell_type": "markdown",
   "metadata": {},
   "source": [
    "This **UnitRelationship** table is larger, and contains more units than the **Unit** table. We want to filter out the units not in the **Unit** table."
   ]
  },
  {
   "cell_type": "code",
   "execution_count": null,
   "metadata": {},
   "outputs": [
    {
     "data": {
      "text/html": [
       "<div>\n",
       "<style scoped>\n",
       "    .dataframe tbody tr th:only-of-type {\n",
       "        vertical-align: middle;\n",
       "    }\n",
       "\n",
       "    .dataframe tbody tr th {\n",
       "        vertical-align: top;\n",
       "    }\n",
       "\n",
       "    .dataframe thead th {\n",
       "        text-align: right;\n",
       "    }\n",
       "</style>\n",
       "<table border=\"1\" class=\"dataframe\">\n",
       "  <thead>\n",
       "    <tr style=\"text-align: right;\">\n",
       "      <th></th>\n",
       "      <th>OBJECTID</th>\n",
       "      <th>OriginUnit</th>\n",
       "      <th>DestinationUnit</th>\n",
       "      <th>MoreData</th>\n",
       "    </tr>\n",
       "  </thead>\n",
       "  <tbody>\n",
       "    <tr>\n",
       "      <th>0</th>\n",
       "      <td>1</td>\n",
       "      <td>Unit A</td>\n",
       "      <td>Unit B</td>\n",
       "      <td>Drinks Celsius</td>\n",
       "    </tr>\n",
       "    <tr>\n",
       "      <th>1</th>\n",
       "      <td>2</td>\n",
       "      <td>Unit B</td>\n",
       "      <td>Unit C</td>\n",
       "      <td>Paid for training</td>\n",
       "    </tr>\n",
       "    <tr>\n",
       "      <th>2</th>\n",
       "      <td>3</td>\n",
       "      <td>Unit C</td>\n",
       "      <td>Unit B</td>\n",
       "      <td>Attended training</td>\n",
       "    </tr>\n",
       "    <tr>\n",
       "      <th>3</th>\n",
       "      <td>4</td>\n",
       "      <td>Unit D</td>\n",
       "      <td>Unit B</td>\n",
       "      <td>Attended training too</td>\n",
       "    </tr>\n",
       "    <tr>\n",
       "      <th>4</th>\n",
       "      <td>5</td>\n",
       "      <td>Unit E</td>\n",
       "      <td>Unit B</td>\n",
       "      <td>Attended training as well</td>\n",
       "    </tr>\n",
       "    <tr>\n",
       "      <th>5</th>\n",
       "      <td>6</td>\n",
       "      <td>Unit F</td>\n",
       "      <td>Unit C</td>\n",
       "      <td>Childhood friends</td>\n",
       "    </tr>\n",
       "    <tr>\n",
       "      <th>6</th>\n",
       "      <td>7</td>\n",
       "      <td>Unit G</td>\n",
       "      <td>Unit H</td>\n",
       "      <td>Sit near each other</td>\n",
       "    </tr>\n",
       "    <tr>\n",
       "      <th>7</th>\n",
       "      <td>9</td>\n",
       "      <td>Unit Y</td>\n",
       "      <td>Unit H</td>\n",
       "      <td>Friends</td>\n",
       "    </tr>\n",
       "    <tr>\n",
       "      <th>8</th>\n",
       "      <td>10</td>\n",
       "      <td>Unit Q</td>\n",
       "      <td>Unit B</td>\n",
       "      <td>Doesn't like training</td>\n",
       "    </tr>\n",
       "    <tr>\n",
       "      <th>9</th>\n",
       "      <td>11</td>\n",
       "      <td>Unit A</td>\n",
       "      <td>Unit Q</td>\n",
       "      <td>Got lost</td>\n",
       "    </tr>\n",
       "  </tbody>\n",
       "</table>\n",
       "</div>"
      ],
      "text/plain": [
       "   OBJECTID OriginUnit DestinationUnit                   MoreData\n",
       "0         1     Unit A          Unit B             Drinks Celsius\n",
       "1         2     Unit B          Unit C          Paid for training\n",
       "2         3     Unit C          Unit B          Attended training\n",
       "3         4     Unit D          Unit B      Attended training too\n",
       "4         5     Unit E          Unit B  Attended training as well\n",
       "5         6     Unit F          Unit C          Childhood friends\n",
       "6         7     Unit G          Unit H        Sit near each other\n",
       "7         9     Unit Y          Unit H                    Friends\n",
       "8        10     Unit Q          Unit B      Doesn't like training\n",
       "9        11     Unit A          Unit Q                   Got lost"
      ]
     },
     "execution_count": 7,
     "metadata": {},
     "output_type": "execute_result"
    }
   ],
   "source": [
    "unitRelsDF"
   ]
  },
  {
   "cell_type": "code",
   "execution_count": null,
   "metadata": {},
   "outputs": [
    {
     "data": {
      "text/plain": [
       "['Unit A', 'Unit B', 'Unit C', 'Unit D', 'Unit E', 'Unit F', 'Unit G', 'Unit H']"
      ]
     },
     "execution_count": 8,
     "metadata": {},
     "output_type": "execute_result"
    }
   ],
   "source": [
    "unitList = list(unitsDF['UnitName'])\n",
    "unitList"
   ]
  },
  {
   "cell_type": "markdown",
   "metadata": {},
   "source": [
    "## Dropping record if both values aren't in list"
   ]
  },
  {
   "cell_type": "markdown",
   "metadata": {},
   "source": [
    "This code uses a pandas dataframe to check if the list of values are used in the `OriginUnit` column and `DestinationUnit` column. If a valid value is in both columns, keep them. Here is a break down of the code:\n",
    "- `unitRelsDF['OriginUnit'].isin(unitList)` returns a boolean dataframe. `True` indicates the valid value is in the `OriginUnit` column. `False` indicates not.\n",
    "- `unitRelsDF['DestinationUnit'].isin(unitList)` returns a boolean dataframe. `True` indicates the valid value is in the `DestinationUnit` column. `False` indicates not.\n",
    "- The `&` requires that the resulting dataframe returns results where both tests are `True`.\n",
    "- The whole expression returns a dataframe indicating where the condition is met and not met. Including this expression in the square brackets subsets the `unitRelsDF` dataframe. **`unitRelsDF[`**`unitRelsDF['OriginUnit'].isin(unitList) & unitRelsDF['DestinationUnit'].isin(unitList)`**`]`**\n",
    "- Lastly, set the resulting subsetted dataframe as the `unitRelsDF` variable/s value to overwrite the existing value, which is no longer needed."
   ]
  },
  {
   "cell_type": "code",
   "execution_count": null,
   "metadata": {},
   "outputs": [
    {
     "data": {
      "text/plain": [
       "0     True\n",
       "1     True\n",
       "2     True\n",
       "3     True\n",
       "4     True\n",
       "5     True\n",
       "6     True\n",
       "7    False\n",
       "8    False\n",
       "9     True\n",
       "Name: OriginUnit, dtype: bool"
      ]
     },
     "execution_count": 9,
     "metadata": {},
     "output_type": "execute_result"
    }
   ],
   "source": [
    "# Including this for the sake of understanding. This code is incorporated in the next code cell.\n",
    "unitRelsDF['OriginUnit'].isin(unitList)"
   ]
  },
  {
   "cell_type": "code",
   "execution_count": null,
   "metadata": {},
   "outputs": [
    {
     "data": {
      "text/html": [
       "<div>\n",
       "<style scoped>\n",
       "    .dataframe tbody tr th:only-of-type {\n",
       "        vertical-align: middle;\n",
       "    }\n",
       "\n",
       "    .dataframe tbody tr th {\n",
       "        vertical-align: top;\n",
       "    }\n",
       "\n",
       "    .dataframe thead th {\n",
       "        text-align: right;\n",
       "    }\n",
       "</style>\n",
       "<table border=\"1\" class=\"dataframe\">\n",
       "  <thead>\n",
       "    <tr style=\"text-align: right;\">\n",
       "      <th></th>\n",
       "      <th>OBJECTID</th>\n",
       "      <th>OriginUnit</th>\n",
       "      <th>DestinationUnit</th>\n",
       "      <th>MoreData</th>\n",
       "    </tr>\n",
       "  </thead>\n",
       "  <tbody>\n",
       "    <tr>\n",
       "      <th>0</th>\n",
       "      <td>1</td>\n",
       "      <td>Unit A</td>\n",
       "      <td>Unit B</td>\n",
       "      <td>Drinks Celsius</td>\n",
       "    </tr>\n",
       "    <tr>\n",
       "      <th>1</th>\n",
       "      <td>2</td>\n",
       "      <td>Unit B</td>\n",
       "      <td>Unit C</td>\n",
       "      <td>Paid for training</td>\n",
       "    </tr>\n",
       "    <tr>\n",
       "      <th>2</th>\n",
       "      <td>3</td>\n",
       "      <td>Unit C</td>\n",
       "      <td>Unit B</td>\n",
       "      <td>Attended training</td>\n",
       "    </tr>\n",
       "    <tr>\n",
       "      <th>3</th>\n",
       "      <td>4</td>\n",
       "      <td>Unit D</td>\n",
       "      <td>Unit B</td>\n",
       "      <td>Attended training too</td>\n",
       "    </tr>\n",
       "    <tr>\n",
       "      <th>4</th>\n",
       "      <td>5</td>\n",
       "      <td>Unit E</td>\n",
       "      <td>Unit B</td>\n",
       "      <td>Attended training as well</td>\n",
       "    </tr>\n",
       "    <tr>\n",
       "      <th>5</th>\n",
       "      <td>6</td>\n",
       "      <td>Unit F</td>\n",
       "      <td>Unit C</td>\n",
       "      <td>Childhood friends</td>\n",
       "    </tr>\n",
       "    <tr>\n",
       "      <th>6</th>\n",
       "      <td>7</td>\n",
       "      <td>Unit G</td>\n",
       "      <td>Unit H</td>\n",
       "      <td>Sit near each other</td>\n",
       "    </tr>\n",
       "  </tbody>\n",
       "</table>\n",
       "</div>"
      ],
      "text/plain": [
       "   OBJECTID OriginUnit DestinationUnit                   MoreData\n",
       "0         1     Unit A          Unit B             Drinks Celsius\n",
       "1         2     Unit B          Unit C          Paid for training\n",
       "2         3     Unit C          Unit B          Attended training\n",
       "3         4     Unit D          Unit B      Attended training too\n",
       "4         5     Unit E          Unit B  Attended training as well\n",
       "5         6     Unit F          Unit C          Childhood friends\n",
       "6         7     Unit G          Unit H        Sit near each other"
      ]
     },
     "execution_count": 10,
     "metadata": {},
     "output_type": "execute_result"
    }
   ],
   "source": [
    "unitRelsDF = unitRelsDF[unitRelsDF['OriginUnit'].isin(unitList) & unitRelsDF['DestinationUnit'].isin(unitList)]\n",
    "unitRelsDF"
   ]
  },
  {
   "cell_type": "markdown",
   "metadata": {},
   "source": [
    "Now that we have the subsetted table, the data can be exported to a file or loaded into a knowledge graph using the ArcGIS API for Python"
   ]
  },
  {
   "cell_type": "markdown",
   "metadata": {},
   "source": [
    "## Load data in to the knowledge graph with the ArcGIS API for Python"
   ]
  },
  {
   "cell_type": "markdown",
   "metadata": {},
   "source": [
    "To load the data we will iterate over each row of the subsetted dataframe. Iteratively create the `OriginUnit` enitity, `DestinationUnit` entity, and the relationship connecting them, and apply the edits as each row is processed.\n",
    "Workflow:\n",
    "1. Craft a dynamic openCypher query. For each row in the dataframe, check to see if that `UnitName` is already in the knowledge graph. If it is, don't create a new entity, just use it for the relationship. Do this for `OriginUnit` and then the `DestinationUnit`.\n",
    "2. Rather than just creating an entity for every unit in the dataframe, check to see if it is there. If the entity exists, just grab the globalid (this is in the `if-`**`else`** statement). If the the entity does not exist, create one (this is in the **`if`**`-else` statement). "
   ]
  },
  {
   "cell_type": "code",
   "execution_count": null,
   "metadata": {},
   "outputs": [
    {
     "name": "stdout",
     "output_type": "stream",
     "text": [
      "Script complete\n"
     ]
    }
   ],
   "source": [
    "for index, row in unitRelsDF.iterrows():\n",
    "    # There is no \"merge\" option in the API for python - you have to handle this yourself. \n",
    "    # Before creating entities to use in relationships, check to see if the entity already exists.\n",
    "    # OriginUnit check\n",
    "    openCypherQueryOrigin = f\"MATCH (u:Unit) WHERE u.UnitName = '{row['OriginUnit']}' RETURN u\"    \n",
    "    qResultOrigin = knowledge_graph.query(openCypherQueryOrigin)\n",
    "    \n",
    "    if len(qResultOrigin) == 0:\n",
    "        # Generate a globalid value using uuid package for the OriginUnit\n",
    "        oUUID = uuid.uuid4()\n",
    "    \n",
    "        # Create the dictionary of properties for the entity relationship representing the OriginUnit\n",
    "        originEntity = {\n",
    "            \"_objectType\": \"entity\",\n",
    "            \"_typeName\": \"Unit\",\n",
    "            \"_properties\": {\n",
    "                \"globalid\": oUUID,\n",
    "                \"UnitName\": row['OriginUnit']\n",
    "            }\n",
    "        }\n",
    "        knowledge_graph.apply_edits(adds=[originEntity])\n",
    "    else:\n",
    "        oUUID = qResultOrigin[0][0]['_properties']['globalid'] # grab the globalid of the existing entity to use in the relationship\n",
    "\n",
    "    # DestinationUnit check\n",
    "    openCypherQueryDestination = f\"MATCH (u:Unit) WHERE u.UnitName = '{row['DestinationUnit']}' RETURN u\"    \n",
    "    qResultDestination = knowledge_graph.query(openCypherQueryDestination)\n",
    "    \n",
    "    if len(qResultDestination) == 0:\n",
    "        # Generate a globalid value using uuid package for the DestinationUnit\n",
    "        dUUID = uuid.uuid4()\n",
    "    \n",
    "        # Create the dictionary of properties for the entity relationship representing the DestinationUnit\n",
    "        destinationEntity = {\n",
    "            \"_objectType\": \"entity\",\n",
    "            \"_typeName\": \"Unit\",\n",
    "            \"_properties\": {\n",
    "                \"globalid\": dUUID,\n",
    "                \"UnitName\": row['DestinationUnit']\n",
    "            }\n",
    "        }\n",
    "        knowledge_graph.apply_edits(adds=[destinationEntity])\n",
    "    else:\n",
    "        dUUID = qResultDestination[0][0]['_properties']['globalid'] # grab the globalid of the existing entity to use in the relationship\n",
    "    \n",
    "    # Create the dictionary of relationship properties to connect the OriginUnit and DestinationUnit in the graph.\n",
    "    relatedToRelationship = {\n",
    "        \"_objectType\": \"relationship\",\n",
    "        \"_typeName\": \"RelatedTo\",\n",
    "        \"_originEntityId\": oUUID,\n",
    "        \"_destinationEntityId\": dUUID,\n",
    "        \"_properties\": {\"MoreData\": row['MoreData']\n",
    "        }\n",
    "    }\n",
    "    \n",
    "    # Apply the edits to the knowledge graph\n",
    "    knowledge_graph.apply_edits(adds=[relatedToRelationship])\n",
    "print(\"Script complete\")"
   ]
  }
 ],
 "metadata": {
  "kernelspec": {
   "display_name": "ArcGISPro",
   "language": "Python",
   "name": "python3"
  },
  "language_info": {
   "file_extension": ".py",
   "name": "python",
   "version": "3"
  }
 },
 "nbformat": 4,
 "nbformat_minor": 2
}
