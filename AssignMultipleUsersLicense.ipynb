{
 "cells": [
  {
   "cell_type": "code",
   "execution_count": 2,
   "metadata": {},
   "outputs": [],
   "source": [
    "from arcgis import GIS\n",
    "from getpass import getpass"
   ]
  },
  {
   "cell_type": "markdown",
   "metadata": {},
   "source": [
    "Create variables. \n",
    "- <code>userToGetLic</code> will be the username for the named user account to assign a license to. \n",
    "- <code>licenseName</code> is the name of the license. The code later extracts the <code>entitlement</code> name by seraching through a dictionary of properties\n",
    "- This code assumes you have administration privileges"
   ]
  },
  {
   "cell_type": "code",
   "execution_count": 3,
   "metadata": {},
   "outputs": [],
   "source": [
    "username = getpass()\n",
    "password = getpass()\n",
    "licenseName = 'ArcGIS Image for ArcGIS Online'\n",
    "agoUrl = r\"https://kinlaw.maps.arcgis.com/home\"\n",
    "userToGetLic = 'Tester0'"
   ]
  },
  {
   "cell_type": "markdown",
   "metadata": {},
   "source": [
    "Gain access to the GIS"
   ]
  },
  {
   "cell_type": "code",
   "execution_count": 4,
   "metadata": {},
   "outputs": [],
   "source": [
    "gis = GIS(agoUrl, username, password)"
   ]
  },
  {
   "cell_type": "markdown",
   "metadata": {},
   "source": [
    "Get a list of all users you want to assign a license for."
   ]
  },
  {
   "cell_type": "code",
   "execution_count": 11,
   "metadata": {},
   "outputs": [
    {
     "name": "stdout",
     "output_type": "stream",
     "text": [
      "You will process 3 users.\n"
     ]
    }
   ],
   "source": [
    "usernameList = [user.username for user in gis.users.search(query=\"*\")]\n",
    "print(f\"You will process {len(usernameList)} users.\")"
   ]
  },
  {
   "cell_type": "markdown",
   "metadata": {},
   "source": [
    "Given the <code>licenseName</code> value, get a license for the add on/extension. Then, assign it to the user."
   ]
  },
  {
   "cell_type": "code",
   "execution_count": 13,
   "metadata": {},
   "outputs": [
    {
     "name": "stdout",
     "output_type": "stream",
     "text": [
      "mhnudi now has ArcGIS Image for ArcGIS Online\n",
      "Tester0 now has ArcGIS Image for ArcGIS Online\n",
      "tkinlaw now has ArcGIS Image for ArcGIS Online\n"
     ]
    }
   ],
   "source": [
    "ai4agoLic = gis.admin.license.get(licenseName)\n",
    "entitlement = list(ai4agoLic.properties['provision']['orgEntitlements']['entitlements'].keys())[0]\n",
    "\n",
    "for userToGetLic in usernameList:\n",
    "    ai4agoLic.assign(username=userToGetLic, entitlements=entitlement)\n",
    "    print(f\"{userToGetLic} now has {licenseName}\")"
   ]
  },
  {
   "cell_type": "markdown",
   "metadata": {},
   "source": [
    "Report the number of users with the assigned license."
   ]
  },
  {
   "cell_type": "code",
   "execution_count": 14,
   "metadata": {},
   "outputs": [
    {
     "name": "stdout",
     "output_type": "stream",
     "text": [
      "There are 3 users assigned a ArcGIS Image for ArcGIS Online license\n"
     ]
    }
   ],
   "source": [
    "numUsers = len(ai4agoLic.report['Users'][0])\n",
    "print(f\"There are {numUsers} users assigned a {licenseName} license\")"
   ]
  }
 ],
 "metadata": {
  "kernelspec": {
   "display_name": "Python 3",
   "language": "python",
   "name": "python3"
  },
  "language_info": {
   "codemirror_mode": {
    "name": "ipython",
    "version": 3
   },
   "file_extension": ".py",
   "mimetype": "text/x-python",
   "name": "python",
   "nbconvert_exporter": "python",
   "pygments_lexer": "ipython3",
   "version": "3.9.18"
  }
 },
 "nbformat": 4,
 "nbformat_minor": 2
}
