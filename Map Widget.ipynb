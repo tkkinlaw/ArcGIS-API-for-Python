{
 "cells": [
  {
   "cell_type": "code",
   "execution_count": 70,
   "metadata": {},
   "outputs": [],
   "source": [
    "import arcgis\n",
    "from arcgis.gis import GIS\n",
    "import pandas as pd"
   ]
  },
  {
   "cell_type": "code",
   "execution_count": 71,
   "metadata": {},
   "outputs": [],
   "source": [
    "# Create a GIS object, as an anonymous user for this example\n",
    "gis = GIS(\"Pro\")"
   ]
  },
  {
   "cell_type": "code",
   "execution_count": 72,
   "metadata": {
    "scrolled": true
   },
   "outputs": [
    {
     "data": {
      "text/html": [
       "<div class=\"item_container\" style=\"height: auto; overflow: hidden; border: 1px solid #cfcfcf; border-radius: 2px; background: #f6fafa; line-height: 1.21429em; padding: 10px;\">\n",
       "                    <div class=\"item_left\" style=\"width: 210px; float: left;\">\n",
       "                       <a href='https://www.arcgis.com//home/item.html?id=036f05ad2902489badf7d327c11f6669' target='_blank'>\n",
       "                        <img src='data:image/png;base64,iVBORw0KGgoAAAANSUhEUgAAAMgAAACFCAIAAACR/CB7AAAACXBIWXMAAAAnAAAAJwEqCZFPAAAT/ElEQVR4nO2db4wTVffHbytBcRfZDRsCzpRlhbCgYRcShE53MRFRZFM0aqe8wGwURHFfSNoSo74wmqAhgbZLQF4oJCrRJ3RGowY20QQS/mxnMOYJ5CG47C5/2s7ggvJnswjC4s7vxYH7G2ams+1MSzvlfl4QOp1O72y/c+655557rktRFEQgFBp3qRtAqEyIsAhFgQiLUBSIsAhFgQiLUBSIsG7D87zmiCzLoiiWpDEVABHWbQRBUL8URTGRSHi93lK1x+kQYd1m4cKF6peCIIRCoVI1pgIgwkIIIVEUXS4XfhmJRILBYAnbUwEQYSGEkCAILMsihGRZjkQi4XCYoqhSN8rZuMiUDnjo4E5xHAcKI9iEWCwkCAJ20sljViiIsJC611N7WgQ7EGHdhc/n4ziu1K2oBIiw7gKslyzLpW6I4yHC0sKybCKRKHUrHA8RlsFkTjAY1ATiCflChIVomtYcoShKFEXSIdqBCAsxDKPXUCgUIh2iHYiwEMuysVhMf1xvyQi5Q4SFEEI0TeuNFolp2YEICyGEPB6PxlvneT4QCJSqPRUAERahKBBhGRMIBPRhCELuEGEhhBDDMCRwVViIsBBCiKIoSZI0/jvJdLADEdZtYrGYJnBFhGUHIqzbgNEqdSsqByKs/ycajcbjcfySxLHsQIR1F5lMBv+fCMsORFh3oRbTyMhICVvidIiw7kI9Ie1yuchKaMsQYd0FwzB4bMiyrLpnJOQFEdZd6MeGxGhZgwhLSzgcxmNDlmVJDMIaRFhaKIpS94AkTGoNIiwD1FaKCMsaRFgGBINB4lrZhAjLgEAggJMdSJjUGkRYxjAMA0bL4/GQtdEWIMIyxuv1QkDL6/UaZsQTzCFljLRArCGTyUiSFAwGIfM9Ho8Hg8GCFM2SZTmTyVR+EUqlEjl58mRra+vKlSuHh4fz+mAikRAEQVEUSZLC4bD6LY7j7DdMf9lKpTK7wr179x4+fPibb75JpVImpw0ODqpPiMfjPp8PbEkikWAYprCtkmU5kUhEo9HCXrY8cbCw9MnEmLa2Np/PFwwGPR6P+vjevXs/+uijtra2L774YnBwcMaMGdOmTQPfnOM4hmFwZ1fwFHhZlu+vgrmlNpm2iMViuZ88MDAAtzxr1qx58+alUim3240QWrlyZSwWkyQJnykIAsdx6osLgqA+wVpTs7XW5pXLkzElVbVdXnzxxffff59hmBdeeGHUk8eNGzd58uSBgYGZM2cuXbr0yJEjfr+/paWlo6OjurpafaYkSQzDqPOxJEmy7G739vZ2dHRs27Zt/Pjx+hqnHMd5PJ7Kq6XrbGF1dXVt3LgRIZROpzW9np6ff/753XffbWpqunz5MkKIYRiTOraaX1qxMXZes2bNwYMHX3/9deheRVEEjfI8L0kSy7KVpyrkdGFNmzbN7XbX1tYeOHDg6aefNvmF8o0XaMoY2REW6Li+vh7dKUAC/lxlL+F3trD8fn8qlaqqqqqtreU4TpIktXcsiiLkKYiimG/pdkmS1CbQcvKMKIrvvffek08+qSjKv//+++uvv/p8PkEQKltVCDncedcgSRJEm2KxWDweh4iU5euoA1eWg1gQtWpvb0cILV68GPx0SZLyGnY4EWdbLA0URTEM09LSEovFNHvj5HsdpOr+wL+2cB3Y5AIhBNGyq1evwpVxCd2K9K4AB8ex9EAEsru7e2RkpFCze7Is0zRtYUjIcRzuf5cuXbpx48adO3fid4PBoL5iYCWVIakoi8VxHGyuxDAMhD3t7F/i8/nWr18fCAQshODh20FV8Xi8vb1dY5woioJBIk3TODOn4LH+UlLqvrhgaIKcio2JOfggVHOw1phoNIpbpb84XFmSJEEQwuFwQWYhy42KEpb+oDU3GQaYlluCxxB6XeJJbg0Qg6ikELzDhAVC0T/ienOFwcYjd0KhkJXGqRqjqOQFaIaZhlRS4oMzfCzs1dI0HQqFZFlWBzzBT882wnK5XPmOv+zUS8aDhmQyybKsLMvJZBIh5PP5Rm0DdIsVsq9dqZVtnUQiAZ7KqJ2diT0zhGVZy63CPVooFOI4Ll8vrWLiWw4WlqIoMNeWi26SyWTuv7HlrjAcDkNLwuGw5fBsZWjL2cJSFGX37t2KogiCAAbM5OeEIVgu1+Q4Ll9ZwEASVJWvgdRgfhdOoUKEBezYsWPixInLli0z+WFAf6NeNpdzwD2H2IH6G3M0OTdu3NiyZcuPP/6of8vm6KEccIbzboJ6enjHjh0XL14cGBhIp9PZYuXgUPM8ryiKiZusqTPD87wgCDRNgyliGAaimvq5ZJ7nc0wT/fzzz9etW4eMcn58Pl8uVyhnHC8s9YLSN954Y3h4eNWqVS0tLTjtSQ9FUYFAQJKkeDyuyYaQJCmTyYCAQEwIIYZhcs9yUXJOsME5P5o0Q/hGx2+NUWKLaZtswSFzTwWW8TQ3Nw8PD8O4MhaLaboza35S7mGznp6edevWdXd3G77r9JhWxQpLURRJkhKJhKHHg7f7evPNNw3dKWvTQRD+yPHkp556CiHk9XrtX6oMKeuuEFa24Jf6rsG8dAdFUeBRxeNxhmHUPWNbWxvP8+l0etasWbIs6/tNiqKyhUl7e3t/+uknv98/fvx4dfMUU6dNT0NDw8GDByGzVA/LspB149TUmlIr2wz9yhlNTCH36VvwqPAH1dEBJYt90ps66EDnzZuHEJo5c6bNyeObN2+ePn36xo0biqIMDQ3Jsqw/J5vFLX/KWljZgD4ukUjk21uBgAx/LexpgdoEQdC7aLFYzO12T5s2DSG0YsUKO7egZmhoaNKkSQihH374IVubC/Vd94xyF5YkSSauBsuymgWAuVwwGAxqrnny5MlNmzZ1dXW1trbOnz+f4zh9JEmSpJ07dz7++OOPPPLI8uXLf/nll7xuxIRz587BCsdNmzZla7Pj7FZZ+1jozr7fsVhMkwQH/lYgEID/RCIROAH+xWECjYMCEQQYAKrfhRVajY2NfX19IyMjW7ZsOX78+IULF7788ssxY8YghGRZjsVi0Wj04MGDJ06cePjhh5999tlC3eOUKVO+//77U6dOrV27NtsfwXGlUJ1abQbyHbq7u1taWtAdDWFnH17yPJ9MJj0eD4QfFUXxeDzYScdnIoRee+21r7766qWXXjp//vzvv/8+d+7cAwcO0DS9du3aY8eO1dXVTZ8+HSJeEJ6gKGrs2LGGDfvjjz+qq6vHjx9fwJstYK2be4ZThQVAnidCSBRFiIzjt1wuF03THo8HLI3hx0GIDMNMmjTp0KFDsiwPDAzQNF1bW7t58+Z9+/bV1NQsW7bst99+4ziuubkZIfTPP/9s27atoaHhlVde0V9w7969fr+/rq6uv79/woQJhbpNwwR5/b2g7LlD955y7wrNwWF3r9erj7PLshwKhaCgqGEUHkLwHMcdP358x44d586da2pqampqGh4e7u3tRQhduXLl1KlTfX19XV1dkiT19/dfu3btgw8+QAidOXMGvHg1Z8+eRQj99ddfg4ODEyZM6O3tXb16dX19Pe5SrQGJ/Cbo11SWHGcLy3z1AegmEAjIssxxnOHsHgSxrl69Cu5zKpV68MEH+/v7Z8+e/dxzz/39999VVVWXL19esGDBkiVLEEJtbW1ut7umpkY/D4MQWr169a1bt2ianjp1KrpTTenw4cMff/zx9OnTLd+myQJXURQ5jivD0kjOFlaOS4ohUooQgulnzbs0TSuKkk6nr127dunSpevXr9fW1iqKcubMmf379yOEqqurJ0+eDAVFLly4MHv27MbGxrq6Ov0XPfTQQzCvDEAYFnpkO7fp9XqPHDminheH/3s8Hpqmy1BVyOnCGtWlADukPl8tRPCxwA/b7fcz//tfY2Pj4OBgJpM5ffr04sWLEUITJkxgGGbNmjX19fWtra1z5sz5888/33rrrVya19jY2N3dnf9t3YUsyy6XS1OxrfynqJ0tLMu1stU9I1R22P2f/4D/u2TJkmvXrl28eLG/v3/9+vUPPPDAo48++s4778TjcVgQwfN8T09PbW3tPfCU8epIhmEikQhoCwYcxf5qmzhbWKN2MdBXQj4MjH9BT+pJPQjEf/Df/7rd7pGRkcmTJ7/99tv9/f0IoU8++WTs2LEgKQjGbty4ccyYMX6/PxqN4plsy0C/rG6YoiiapwWaCr05NEOWZSKs0tPZ2cmybLbcLEEQIpGILMszZsx45plnzp07N3fu3PXr18disRDLorFju7q6jh49umXLlvnz58+ZM2fXrl0nTpz47rvvBEHQz23nCAziPB6PPoRrgtfrdVDR+UoWFlRPEAQh248HQ8KpU6cmk8lVq1a9/PLLQ0NDHo+ns7PT5XIhmkYITZ8+/euvv0YIVVVVKYoCcVHw3EOhkCiK8XgcL5OHKg9QPklTCAnHC+3EBSiK8vl84XC4/JeIVY6wcNgd/4RQgtEkApxIJEKhEM4jrampqampQQhxHIft0NmzZ5ubm69fvz5z5sxTp05dunRp0aJFhw4dymQyEMdXWyyYfVqxYkXxyrgnk8lQKFT+znu5T0KbgxNXIKnG8JxsqydwOoPJ9SVJgmh+PB5XFCWTyXAc53a7J06ceOnSpWwfSSaT+d1GzuCci/Iv9+DsMkY4z+7EiRPZFiCwLOvz+Xie12QFwgJl86B2KBSCpYssy0JEKhAIpFKpvr6+2tpaw49QFFW8zaQFQXDMlhalVrYtILllaGgI7sUwnwmDs7jgoWdZ1iQpfs+ePZ2dnRMnTgwGg2Ae8kqKSiaTBU8sVicrl7/FcraPBY/v0NAQRAr6+vpMTsbxd/C48cf1nD9/3u/3I4SamppisRiEuVmWNVn5o4FhGLCmhYp1iaLorKrdzu4KgSlTprz66qvRaLSjoyOX82EmJBgM8jzf2dmpr/0HFeERQh9++CFFUSAmr9ebV1IUaKsghQUhxOCYThAotcm0RTQabW9vb2lp+fbbb3P8CC7UgddpGXYrly9fTqfT+uOJRCIv39xy6TZAUwsJU/5dobOFtW/fPng8Pv3001FPhtxR/BL/5Pn+SPkmClvOKk4mk9m8wPIXlrO7wscee+z5559vaGi4ceOGSacDK8A8Hg+OTMqynFfGwYEDB1auXNna2trT00NRVF6bRlvbYVqWZTv7rJSeUivbFtgYQJdh2EkZFjBSD/FGffoHBgaeeOIJ+HNh05iXHcp3kDjqyhxise4ROBdUc1wURZfLpZ8Ayatm37hx427evNnc3Lxw4cLly5fDwWAwCEPLXGAYJplM5j7NVwnbGpZa2bbQmA2IVKmPGPrOmjWDuTz9hr68/uvMycVugQM36mnEYhURURQ12SO4rjo+og8QQJpyvr5LTU2N3ieDZfi5BxQYhkmn0+bnw2aZ5vEqZ+x8XmplWyebtQB/C+r35VL53ebTn29dGvOy2+o6coY4ZWG0Uy0WRKIN34IddWA1mPrRx4tOC9uSUCi0e/fu3M8PBAIwTWmISU6sKIqRSMQx7leplW0RkzJU+JmGwqT4YLZxnP3V6xZq/xuaSdirwvD8HCtclg9OFZZJ/6XWHJ64Nek+Ru19bLbHEEPHP5vEnVju1pGT0LAjV7a3YE0f4PP5IDPdZDG0+nzLaGqWjgrkgqpzlLOdCZPZjouUOtLHSiaThn9o8KLUqZXgbymKEo/HDQdT3d3dBfnNqqurcfZONmBVI17YCNYUcrwgiqtPWYbVROWfiGxAqU1m3hh6S9CzGPZH+GT9bl4mPk1e7NmzByFUV1d35coVwxNisdiuXbsWLVoExbdhGRnebTWb82QyV1j+OE9YGlVBfSyTvGS1W61xVizs32TItm3b4ClNpVL4IN7/Nx6PS5K0detWOMcw0KqP9GqK7ToO5/lYEGWApROZTMZkxQtM/aojDrA0L5PJQOdieb2rhtWrVx89epSiKHDXcAxW3SmbFN+mKCoUCkUiESgDDv5WWVX4sIDDyhiBVmBx1ah/ek0ZdwyuzVLAtEy8bEYURUVRDJ1xSZKqqqo0yfLgF9I07fP5MplMua+9yRmHCQse61yqkJnXiwKDpyiKy+UqyG/J8zzMNKtru5kD+tYsec09+7nMcYywYAZQFEWTMLeFogYFKXnN8zwsM8xRo1AmznFF+vKjpB7eXeDNkmE/SOx0q4scF2NW387UGwxFoak57utkZ8c5B1G+FgvMAEIIdxayLGcymXx7CvUuBIqiuFwuTcWERCLhdrvz6hANTVQ2l07dkkQiUeGG6g7lKyw9hVpXjuPd8FIQhGg0ClqBgD4eLcIfB8cnIVNPL00ABhbZdI8LEtlvvzMorcHMl2JMxJpPIePQay69cLbJPn0CT8VDhKUoBXLdbt26tX379lu3bmmOO327JWs4bK6wSDtE5juFbMiqVas6Ojra29vVB2G+/H5wqjQ4TFhF+oWCwWAkErF5kVQqhRCCUoAABD/Lv/peMXCS815UYMiGZ1TU5Dhi6Onp2bBhw4IFCziOq6+v37Bhw9atW52R7VkEiLCMgWqfSLdnoppkMskwDKRIQDkkhmGgiA1C6LPPPsuxlkRFQoRlAFZVvvA8v3///mPHjtE0vWvXrmz77dwPOC+74R5g+WGDTnP79u0FbY4jcZjzfm8oVDrN/QwRlgFQGFJzsLe3d/PmzT09PSVpkuMgXaEx6XRacwQ2y4QK7yYfJD4rQCxWrjQ0NCCEsm06jylIrLUCIKNCAwRBcLlcmunkUfdWBRxXLLRIEGEZMGoCDGFUSFdoAHnY7EOEZUBB1kbf5xBhGUAsln2Ij0UoCsRiEYoCERahKBBhEYoCERahKBBhEYrC/wG7PRc9r/87GQAAAABJRU5ErkJggg==' width='200' height='133' class=\"itemThumbnail\">\n",
       "                       </a>\n",
       "                    </div>\n",
       "\n",
       "                    <div class=\"item_right\"     style=\"float: none; width: auto; overflow: hidden;\">\n",
       "                        <a href='https://www.arcgis.com//home/item.html?id=036f05ad2902489badf7d327c11f6669' target='_blank'><b>Charlotte Cultural Resources</b>\n",
       "                        </a>\n",
       "                        <br/>Charlotte's cultural resources<img src='https://www.arcgis.com//home/js/jsapi/esri/css/images/item_type_icons/featureshosted16.png' style=\"vertical-align:middle;\" width=16 height=16>Feature Layer Collection by admin_nthp\n",
       "                        <br/>Last Modified: September 29, 2021\n",
       "                        <br/>0 comments, 615 views\n",
       "                    </div>\n",
       "                </div>\n",
       "                "
      ],
      "text/plain": [
       "<Item title:\"Charlotte Cultural Resources\" type:Feature Layer Collection owner:admin_nthp>"
      ]
     },
     "execution_count": 72,
     "metadata": {},
     "output_type": "execute_result"
    }
   ],
   "source": [
    "# Create a map widget\n",
    "map1 = gis.map('Charlotte') \n",
    "item = gis.content.get(\"036f05ad2902489badf7d327c11f6669\")\n",
    "map1.add_layer(item)\n",
    "item"
   ]
  },
  {
   "cell_type": "code",
   "execution_count": 73,
   "metadata": {},
   "outputs": [
    {
     "data": {
      "application/vnd.jupyter.widget-view+json": {
       "model_id": "6cbb5667bc33456090325d9eb1f59469",
       "version_major": 2,
       "version_minor": 0
      },
      "text/plain": [
       "MapView(layout=Layout(height='400px', width='100%'))"
      ]
     },
     "metadata": {},
     "output_type": "display_data"
    },
    {
     "data": {
      "text/html": [
       "<div class=\"map-static-img-preview-54f37d84-54df-4dbf-a802-175e4092baf6\"><img src=\"\"></img></div>"
      ],
      "text/plain": [
       "<display.HTML object>"
      ]
     },
     "metadata": {},
     "output_type": "display_data"
    },
    {
     "data": {
      "text/html": [
       "<div class=\"map-html-embed-preview-54f37d84-54df-4dbf-a802-175e4092baf6\"></div>"
      ],
      "text/plain": [
       "<display.HTML object>"
      ]
     },
     "metadata": {},
     "output_type": "display_data"
    }
   ],
   "source": [
    "map1"
   ]
  }
 ],
 "metadata": {
  "kernelspec": {
   "display_name": "ArcGISPro",
   "language": "Python",
   "name": "python3"
  },
  "language_info": {
   "file_extension": ".py",
   "name": "python",
   "version": "3"
  }
 },
 "nbformat": 4,
 "nbformat_minor": 2
}
