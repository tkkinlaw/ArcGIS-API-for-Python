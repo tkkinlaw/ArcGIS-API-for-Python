{
 "cells": [
  {
   "cell_type": "markdown",
   "metadata": {},
   "source": [
    "When you are signed in to your ArcGIS Online or Enterprise portal, you can use the following authentication scheme to automatically connect to your GIS using the credentials you are signed in with. [More details here](https://parkdemos.maps.arcgis.com/home/item.html?id=993b7be806774f3b8d18963b39d63596)."
   ]
  },
  {
   "cell_type": "code",
   "execution_count": null,
   "metadata": {},
   "outputs": [],
   "source": [
    "from arcgis.gis import GIS\n",
    "gis = GIS(\"home\")"
   ]
  },
  {
   "cell_type": "markdown",
   "metadata": {},
   "source": [
    "When you are using ArcGIS Pro, you can use the following authentication scheme to automatically connect to your GIS using the credentials you are connected to your portal with. [More details here](https://developers.arcgis.com/python/guide/working-with-different-authentication-schemes/#Connecting-through-ArcGIS-Pro)."
   ]
  },
  {
   "cell_type": "code",
   "execution_count": null,
   "metadata": {},
   "outputs": [],
   "source": [
    "from arcgis.gis import GIS\n",
    "gis = GIS(\"pro\")"
   ]
  },
  {
   "cell_type": "markdown",
   "metadata": {},
   "source": [
    "This method allows you to enter credentials in the script and not reveal your credentials."
   ]
  },
  {
   "cell_type": "code",
   "execution_count": null,
   "metadata": {},
   "outputs": [],
   "source": [
    "from arcgis.gis import GIS\n",
    "from getpass import getpass\n",
    "username = getpass()\n",
    "password = getpass()\n",
    "gis = GIS(username = username, password = password)"
   ]
  },
  {
   "cell_type": "markdown",
   "metadata": {},
   "source": [
    "The Training Services org using OAuth 2.0. To do this, follow these steps:\n",
    "- Sign in to your portal\n",
    "- Create a new Application Item\n",
    "- Set the Application Type to Other application\n",
    "- Go to this newly created item's settings and locate the Client ID\n",
    "- In the code below, set the `client_id` parameter to the Client ID value"
   ]
  },
  {
   "cell_type": "code",
   "execution_count": null,
   "metadata": {},
   "outputs": [],
   "source": [
    "from arcgis.gis import GIS"
   ]
  },
  {
   "cell_type": "code",
   "execution_count": null,
   "metadata": {},
   "outputs": [],
   "source": [
    "gis = GIS(\"https://trainingservices.maps.arcgis.com/\", client_id=\"YOUR CLIENT ID\")\n",
    "gis.content.search(\"*\")"
   ]
  }
 ],
 "metadata": {
  "kernelspec": {
   "display_name": "ArcGISPro",
   "language": "Python",
   "name": "python3"
  },
  "language_info": {
   "codemirror_mode": {
    "name": "ipython",
    "version": 3
   },
   "file_extension": ".py",
   "mimetype": "text/x-python",
   "name": "python",
   "nbconvert_exporter": "python",
   "pygments_lexer": "ipython3",
   "version": "3.9.18"
  }
 },
 "nbformat": 4,
 "nbformat_minor": 2
}
